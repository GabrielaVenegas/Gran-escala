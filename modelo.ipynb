{
 "cells": [
  {
   "cell_type": "code",
   "execution_count": 5,
   "id": "ff8c5da3",
   "metadata": {},
   "outputs": [],
   "source": [
    "import numpy as np\n",
    "import pandas as pd\n",
    "import matplotlib.pyplot as plt\n",
    "import seaborn as sns"
   ]
  },
  {
   "cell_type": "code",
   "execution_count": 6,
   "id": "d593b9d5",
   "metadata": {},
   "outputs": [],
   "source": [
    "train = pd.read_csv(\"./house-prices-advanced-regression-techniques/train.csv\")\n",
    "test = pd.read_csv(\"./house-prices-advanced-regression-techniques/test.csv\")#archivo a modificar para obtener \n",
    "#predicción usando todas las variables"
   ]
  },
  {
   "cell_type": "code",
   "execution_count": 7,
   "id": "d3f5b601",
   "metadata": {},
   "outputs": [
    {
     "data": {
      "text/html": [
       "<div>\n",
       "<style scoped>\n",
       "    .dataframe tbody tr th:only-of-type {\n",
       "        vertical-align: middle;\n",
       "    }\n",
       "\n",
       "    .dataframe tbody tr th {\n",
       "        vertical-align: top;\n",
       "    }\n",
       "\n",
       "    .dataframe thead th {\n",
       "        text-align: right;\n",
       "    }\n",
       "</style>\n",
       "<table border=\"1\" class=\"dataframe\">\n",
       "  <thead>\n",
       "    <tr style=\"text-align: right;\">\n",
       "      <th></th>\n",
       "      <th>Id</th>\n",
       "      <th>MSSubClass</th>\n",
       "      <th>MSZoning</th>\n",
       "      <th>LotFrontage</th>\n",
       "      <th>LotArea</th>\n",
       "      <th>Street</th>\n",
       "      <th>Alley</th>\n",
       "      <th>LotShape</th>\n",
       "      <th>LandContour</th>\n",
       "      <th>Utilities</th>\n",
       "      <th>...</th>\n",
       "      <th>PoolArea</th>\n",
       "      <th>PoolQC</th>\n",
       "      <th>Fence</th>\n",
       "      <th>MiscFeature</th>\n",
       "      <th>MiscVal</th>\n",
       "      <th>MoSold</th>\n",
       "      <th>YrSold</th>\n",
       "      <th>SaleType</th>\n",
       "      <th>SaleCondition</th>\n",
       "      <th>SalePrice</th>\n",
       "    </tr>\n",
       "  </thead>\n",
       "  <tbody>\n",
       "    <tr>\n",
       "      <th>0</th>\n",
       "      <td>1</td>\n",
       "      <td>60</td>\n",
       "      <td>RL</td>\n",
       "      <td>65.0</td>\n",
       "      <td>8450</td>\n",
       "      <td>Pave</td>\n",
       "      <td>NaN</td>\n",
       "      <td>Reg</td>\n",
       "      <td>Lvl</td>\n",
       "      <td>AllPub</td>\n",
       "      <td>...</td>\n",
       "      <td>0</td>\n",
       "      <td>NaN</td>\n",
       "      <td>NaN</td>\n",
       "      <td>NaN</td>\n",
       "      <td>0</td>\n",
       "      <td>2</td>\n",
       "      <td>2008</td>\n",
       "      <td>WD</td>\n",
       "      <td>Normal</td>\n",
       "      <td>208500</td>\n",
       "    </tr>\n",
       "    <tr>\n",
       "      <th>1</th>\n",
       "      <td>2</td>\n",
       "      <td>20</td>\n",
       "      <td>RL</td>\n",
       "      <td>80.0</td>\n",
       "      <td>9600</td>\n",
       "      <td>Pave</td>\n",
       "      <td>NaN</td>\n",
       "      <td>Reg</td>\n",
       "      <td>Lvl</td>\n",
       "      <td>AllPub</td>\n",
       "      <td>...</td>\n",
       "      <td>0</td>\n",
       "      <td>NaN</td>\n",
       "      <td>NaN</td>\n",
       "      <td>NaN</td>\n",
       "      <td>0</td>\n",
       "      <td>5</td>\n",
       "      <td>2007</td>\n",
       "      <td>WD</td>\n",
       "      <td>Normal</td>\n",
       "      <td>181500</td>\n",
       "    </tr>\n",
       "  </tbody>\n",
       "</table>\n",
       "<p>2 rows × 81 columns</p>\n",
       "</div>"
      ],
      "text/plain": [
       "   Id  MSSubClass MSZoning  LotFrontage  LotArea Street Alley LotShape  \\\n",
       "0   1          60       RL         65.0     8450   Pave   NaN      Reg   \n",
       "1   2          20       RL         80.0     9600   Pave   NaN      Reg   \n",
       "\n",
       "  LandContour Utilities  ... PoolArea PoolQC Fence MiscFeature MiscVal MoSold  \\\n",
       "0         Lvl    AllPub  ...        0    NaN   NaN         NaN       0      2   \n",
       "1         Lvl    AllPub  ...        0    NaN   NaN         NaN       0      5   \n",
       "\n",
       "  YrSold  SaleType  SaleCondition  SalePrice  \n",
       "0   2008        WD         Normal     208500  \n",
       "1   2007        WD         Normal     181500  \n",
       "\n",
       "[2 rows x 81 columns]"
      ]
     },
     "execution_count": 7,
     "metadata": {},
     "output_type": "execute_result"
    }
   ],
   "source": [
    "##vista de los datos de entrenamiento\n",
    "train.head(2)"
   ]
  },
  {
   "cell_type": "code",
   "execution_count": 8,
   "id": "6c05a75f",
   "metadata": {},
   "outputs": [],
   "source": [
    "##Revisión de variables\n",
    "data = pd.concat([train.drop('SalePrice', axis=1), test], keys=['train', 'test'])\n",
    "data.drop(['Id'], axis=1, inplace=True)\n",
    "\n",
    "years = ['YearBuilt', 'YearRemodAdd', 'GarageYrBlt', 'YrSold']\n",
    "metrics = ['LotFrontage', 'LotArea', 'MasVnrArea', 'BsmtFinSF1', 'BsmtFinSF2', 'BsmtUnfSF', 'TotalBsmtSF',\n",
    "         '1stFlrSF', '2ndFlrSF', 'LowQualFinSF', 'GrLivArea', 'GarageArea', 'WoodDeckSF', \n",
    "         'OpenPorchSF', 'EnclosedPorch', '3SsnPorch', 'ScreenPorch', 'PoolArea', 'MiscVal']\n",
    "mask = (data[years] > 2018).any(axis=1) \n",
    "data.loc[mask, 'GarageYrBlt'] = data[mask]['YearBuilt']\n",
    "\n",
    "###separación variables numericas y categoricas\n",
    "num_feats = ['LotFrontage', 'LotArea', 'OverallQual', 'OverallCond', \n",
    "             'YearBuilt', 'YearRemodAdd', 'MasVnrArea', 'ExterQual', 'ExterCond', \n",
    "             'BsmtQual', 'BsmtCond', 'BsmtFinSF1', 'BsmtFinSF2', 'BsmtUnfSF', 'TotalBsmtSF', \n",
    "             'HeatingQC', '1stFlrSF', '2ndFlrSF', 'LowQualFinSF',\n",
    "             'GrLivArea', 'BsmtFullBath', 'BsmtHalfBath', 'FullBath', 'HalfBath',\n",
    "             'BedroomAbvGr', 'KitchenAbvGr', 'KitchenQual', 'TotRmsAbvGrd',\n",
    "             'Fireplaces', 'FireplaceQu', 'GarageYrBlt',\n",
    "             'GarageCars', 'GarageArea', 'GarageQual', 'GarageCond',\n",
    "             'WoodDeckSF', 'OpenPorchSF', 'EnclosedPorch', '3SsnPorch',\n",
    "             'ScreenPorch', 'PoolArea', 'PoolQC', 'MiscVal',\n",
    "             'YrSold']    \n",
    "\n",
    "grades = ['OverallQual', 'OverallCond', 'ExterQual', 'ExterCond', 'BsmtQual', 'BsmtCond',\n",
    "          'HeatingQC', 'KitchenQual', 'FireplaceQu', 'GarageQual', 'GarageCond', 'PoolQC']\n",
    "\n",
    "literal = ['Ex', 'Gd', 'TA', 'Fa', 'Po']\n",
    "\n",
    "num = [9, 7, 5, 3, 2]\n",
    "\n",
    "G = dict(zip(literal, num))\n",
    "\n",
    "data[grades] = data[grades].replace(G)\n",
    "\n",
    "cat_feats = data.drop(num_feats, axis=1).columns"
   ]
  },
  {
   "cell_type": "code",
   "execution_count": 9,
   "id": "72eeec3c",
   "metadata": {},
   "outputs": [],
   "source": [
    "##Transformación logarítmica\n",
    "price = np.log1p(train['SalePrice'])\n",
    "#asimetría\n",
    "skewed_feats = data.loc['train'][metrics].apply(lambda x: x.skew(skipna=True)) #compute skewness\n",
    "skewed_feats = skewed_feats[skewed_feats > 0.75]\n",
    "skewed_feats = skewed_feats.index\n",
    "\n",
    "data[skewed_feats] = np.log1p(data[skewed_feats])"
   ]
  },
  {
   "cell_type": "code",
   "execution_count": 10,
   "id": "d2db3228",
   "metadata": {},
   "outputs": [],
   "source": [
    "#Revisió y manejo de datos faltantes\n",
    "data.isnull().sum()[data.isnull().sum() > 0]\n",
    "feats = ['MSZoning', 'Utilities', 'Exterior1st', 'Exterior2nd', 'Electrical', 'Functional',\n",
    "         'SaleType']\n",
    "model = data.loc['train'].groupby('Neighborhood')[feats].apply(lambda x: x.mode().iloc[0])\n",
    "\n",
    "for f in feats:\n",
    "    data[f].fillna(data['Neighborhood'].map(model[f]), inplace=True)\n",
    "data['LotFrontage'] = data['LotFrontage'].fillna(data.loc['train', 'LotFrontage'].median()) #mediana\n",
    "data['KitchenQual'].fillna(data['OverallQual'], inplace=True)#reemplazamos con otra variable"
   ]
  },
  {
   "cell_type": "code",
   "execution_count": 11,
   "id": "8f918dd1",
   "metadata": {},
   "outputs": [],
   "source": [
    "bsmt = ['BsmtQual', 'BsmtCond', 'BsmtExposure', 'BsmtFinType1', \n",
    "        'BsmtFinSF1', 'BsmtFinType2', 'BsmtFinSF2', 'BsmtUnfSF', 'BsmtFullBath',\n",
    "        'BsmtHalfBath', \n",
    "        'TotalBsmtSF']\n",
    "fire = ['Fireplaces', 'FireplaceQu']\n",
    "garage = ['GarageQual', 'GarageCond', 'GarageType', 'GarageFinish', 'GarageCars', \n",
    "          'GarageArea', 'GarageYrBlt']\n",
    "masn = ['MasVnrType', 'MasVnrArea']\n",
    "others = ['Alley', 'Fence', 'PoolQC', 'MiscFeature']\n",
    "\n",
    "cats = data.columns[data.dtypes == 'object']\n",
    "nums = list(set(data.columns) - set(cats))\n",
    "\n",
    "data['MasVnrType'].replace({'None': np.nan}, inplace=True)\n",
    "\n",
    "data[cats] = data[cats].fillna('0')\n",
    "data[nums] = data[nums].fillna(0)"
   ]
  },
  {
   "cell_type": "code",
   "execution_count": 12,
   "id": "4d7859e3",
   "metadata": {},
   "outputs": [
    {
     "data": {
      "text/plain": [
       "0"
      ]
     },
     "execution_count": 12,
     "metadata": {},
     "output_type": "execute_result"
    }
   ],
   "source": [
    "data.isnull().sum().sum()#revisión final nulos "
   ]
  },
  {
   "cell_type": "code",
   "execution_count": 13,
   "id": "62f3e96b",
   "metadata": {},
   "outputs": [],
   "source": [
    "#cambio de tipo de dato\n",
    "data['MSSubClass'] = data['MSSubClass'].astype('object', copy=False)\n",
    "data['MoSold'] = data['MoSold'].astype('object', copy=False)#objeto\n",
    "data['BsmtFullBath'] = data['BsmtFullBath'].astype('int64', copy=False)#entero\n",
    "data['BsmtHalfBath'] = data['BsmtHalfBath'].astype('int64', copy=False)\n",
    "data['GarageCars'] = data['GarageCars'].astype('int64', copy=False)\n",
    "data[years] = data[years].astype('int64', copy=False)"
   ]
  },
  {
   "cell_type": "code",
   "execution_count": 14,
   "id": "c0d452a5",
   "metadata": {},
   "outputs": [],
   "source": [
    "categorical_data = pd.concat((data.loc['train'][cat_feats], price), axis=1)#agrupar variables categoricas\n",
    "\n",
    "low = 0.05 * data.loc['train'].shape[0] \n",
    "\n",
    "for feat in cat_feats:        \n",
    "\n",
    "    order = ((categorical_data.groupby(feat).mean()).sort_values(by='SalePrice', \n",
    "                                                      ascending=False).index.values.tolist())\n",
    "    for i in range(0, len(order)):\n",
    "        N = (categorical_data[categorical_data[feat] == order[i]]\n",
    "             .count().max())\n",
    "        j = i\n",
    "        while (N < low) & (N != 0):\n",
    "            j += 1\n",
    "\n",
    "            if (j > len(order) - 1):\n",
    "                j = i - 1\n",
    "                break\n",
    "            else: \n",
    "                N += (categorical_data[categorical_data[feat] == order[j]]\n",
    "                      .count().max())\n",
    "        if j < i:\n",
    "            lim = len(order)\n",
    "        else:\n",
    "            lim = j\n",
    "\n",
    "        for k in range(i, lim):\n",
    "            categorical_data.replace({feat: {order[k]: order[j]}},\n",
    "                                 inplace=True)\n",
    "            data.replace({feat: {order[k]: order[j]}},\n",
    "                                     inplace=True)            \n",
    "    uniD = data[feat].unique()\n",
    "    order = categorical_data[feat].unique()\n",
    "\n",
    "    for i in uniD:\n",
    "        if i not in order:\n",
    "            ind = np.argsort(order - i)[0]\n",
    "            data.replace({feat: {i: order[ind]}}, inplace=True)\n"
   ]
  },
  {
   "cell_type": "code",
   "execution_count": 15,
   "id": "e4d4fa70",
   "metadata": {},
   "outputs": [
    {
     "name": "stdout",
     "output_type": "stream",
     "text": [
      "MSZoning: Index(['RM', 'RL'], dtype='object', name='MSZoning')\n",
      "Alley: Index(['Grvl', '0'], dtype='object', name='Alley')\n",
      "LotShape: Index(['Reg', 'IR1'], dtype='object', name='LotShape')\n",
      "LandContour: Index(['Lvl', 'Low'], dtype='object', name='LandContour')\n",
      "LandSlope: Index(['Gtl', 'Mod'], dtype='object', name='LandSlope')\n",
      "Condition1: Index(['Feedr', 'Norm'], dtype='object', name='Condition1')\n",
      "RoofStyle: Index(['Gable', 'Hip'], dtype='object', name='RoofStyle')\n",
      "BsmtFinType2: Index(['Rec', 'Unf'], dtype='object', name='BsmtFinType2')\n",
      "CentralAir: Index(['N', 'Y'], dtype='object', name='CentralAir')\n",
      "Electrical: Index(['FuseA', 'SBrkr'], dtype='object', name='Electrical')\n",
      "Functional: Index(['Min2', 'Typ'], dtype='object', name='Functional')\n",
      "PavedDrive: Index(['N', 'Y'], dtype='object', name='PavedDrive')\n",
      "Fence: Index(['MnPrv', '0'], dtype='object', name='Fence')\n",
      "SaleType: Index(['WD', 'New'], dtype='object', name='SaleType')\n"
     ]
    }
   ],
   "source": [
    "#generación dummys\n",
    "for feat in categorical_data.columns[:-1]:    \n",
    "    uni = categorical_data.groupby(feat).mean().sort_values(by='SalePrice').index\n",
    "    if (len(uni) < 2):\n",
    "            data.drop(feat, axis=1, inplace=True)\n",
    "    elif len(uni) < 3:\n",
    "        print(\"{}: {}\".format(feat, uni))\n",
    "        data[feat].replace({uni[0]: 0, uni[1]: 1}, inplace=True)\n",
    "        data[feat] = data[feat].astype('int8')\n",
    "    else:\n",
    "        data[feat] = data[feat].astype('category')\n",
    "finaldata = pd.get_dummies(data)\n",
    "black_list = bsmt + fire + garage + masn + others\n",
    "for feat in finaldata.columns:\n",
    "    if ('_0' in feat) and (feat.split(\"_\")[0] in black_list):\n",
    "        finaldata.drop(feat, axis=1, inplace=True)"
   ]
  },
  {
   "cell_type": "code",
   "execution_count": 16,
   "id": "8b64161e",
   "metadata": {},
   "outputs": [],
   "source": [
    "X_test = finaldata.loc['test']\n",
    "X_train = finaldata.loc['train']\n",
    "y_train = price\n",
    "m = X_train.mean()\n",
    "std = X_train.std()\n",
    "\n",
    "X_train = (X_train - m) / std\n",
    "X_test = (X_test - m) / std"
   ]
  },
  {
   "cell_type": "code",
   "execution_count": 18,
   "id": "526df699",
   "metadata": {},
   "outputs": [
    {
     "name": "stdout",
     "output_type": "stream",
     "text": [
      "GrLivArea  1.1707e-01\n",
      "OverallQual  8.0499e-02\n",
      "OverallCond  4.0788e-02\n",
      "GarageCars  3.7414e-02\n",
      "YearBuilt  3.4131e-02\n",
      "1stFlrSF  3.1023e-02\n",
      "Neighborhood_NridgHt  2.9418e-02\n",
      "LotArea  2.7743e-02\n",
      "BsmtFinSF1  2.6273e-02\n",
      "MSZoning  2.0974e-02\n"
     ]
    }
   ],
   "source": [
    "#### Modelo Regresión Lasso\n",
    "from sklearn.linear_model import LassoCV\n",
    "Ls = LassoCV()\n",
    "Ls.fit(X_train, y_train)\n",
    "y_prediccion = Ls.predict(X_test)\n",
    "#Revisión de variables más importantes en la regresión para usar en modelo sencillo\n",
    "maxcoef = np.argsort(-np.abs(Ls.coef_))\n",
    "coef = Ls.coef_[maxcoef]\n",
    "for i in range(0, 10):\n",
    "    print(\"{:.<005} {:< 010.4e}\".format(finaldata.columns[maxcoef[i]], coef[i]))"
   ]
  },
  {
   "cell_type": "code",
   "execution_count": 26,
   "id": "a87cf07d",
   "metadata": {},
   "outputs": [
    {
     "name": "stdout",
     "output_type": "stream",
     "text": [
      "El precio de la casa en la línea: 1  es  116046.01\n"
     ]
    }
   ],
   "source": [
    "\n",
    "######### Modificar por usuario ###########\n",
    "\n",
    "\n",
    "línea_a_predecir=1 #Poner el número de línea a predecir, 0 está reservado al encabezado\n",
    "\n",
    "\n",
    "print(\"El precio de la casa en la línea:\",línea_a_predecir ,\" es \",round(y_prediccion[línea_a_predecir-1]*10000,2))"
   ]
  },
  {
   "cell_type": "code",
   "execution_count": 38,
   "id": "2c80066b",
   "metadata": {},
   "outputs": [
    {
     "name": "stdout",
     "output_type": "stream",
     "text": [
      "El precio de la casa con los datos proporcionados es 111402.6052366842\n"
     ]
    },
    {
     "name": "stderr",
     "output_type": "stream",
     "text": [
      "/Library/Frameworks/Python.framework/Versions/3.10/lib/python3.10/site-packages/sklearn/linear_model/_coordinate_descent.py:1563: DataConversionWarning: A column-vector y was passed when a 1d array was expected. Please change the shape of y to (n_samples, ), for example using ravel().\n",
      "  y = column_or_1d(y, warn=True)\n",
      "/Library/Frameworks/Python.framework/Versions/3.10/lib/python3.10/site-packages/sklearn/base.py:464: UserWarning: X does not have valid feature names, but LassoCV was fitted with feature names\n",
      "  warnings.warn(\n"
     ]
    }
   ],
   "source": [
    "#### Modelo sencillo con top 5 variables importantes #######\n",
    "Ls2 = LassoCV()\n",
    "Ls2.fit(train[[\"GrLivArea\",\"OverallQual\",\"OverallCond\",\"GarageCars\",\"YearBuilt\"]], train[[\"SalePrice\"]])\n",
    "\n",
    "\n",
    "######### Modificar por usuario ###########\n",
    "\n",
    "### Digitar las variables \n",
    "GrLivArea=896 #Above grade (ground) living area square feet\n",
    "OverallQual=5 #Rates the overall material and finish of the house 1-10, 10 Very excellent \n",
    "OverallCond=6 #Rates the overall condition of the house 1-10, 10 Very excellent \n",
    "GarageCars=1 #Size of garage in car capacity\n",
    "YearBuilt=1961 #Original construction date\n",
    "\n",
    "y_est = Ls2.predict(np.asarray([[GrLivArea,OverallQual,OverallCond,GarageCars,YearBuilt]]))\n",
    "\n",
    "print(\"El precio de la casa con los datos proporcionados es\",y_est[0])"
   ]
  },
  {
   "cell_type": "code",
   "execution_count": null,
   "id": "d63f6b62",
   "metadata": {},
   "outputs": [],
   "source": []
  }
 ],
 "metadata": {
  "kernelspec": {
   "display_name": "Python 3 (ipykernel)",
   "language": "python",
   "name": "python3"
  },
  "language_info": {
   "codemirror_mode": {
    "name": "ipython",
    "version": 3
   },
   "file_extension": ".py",
   "mimetype": "text/x-python",
   "name": "python",
   "nbconvert_exporter": "python",
   "pygments_lexer": "ipython3",
   "version": "3.10.0"
  }
 },
 "nbformat": 4,
 "nbformat_minor": 5
}
